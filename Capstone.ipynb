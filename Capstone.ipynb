{
 "cells": [
  {
   "cell_type": "code",
   "execution_count": 1,
   "metadata": {},
   "outputs": [],
   "source": [
    "import requests\n",
    "\n",
    "url_get = requests.get('https://monexnews.com/kurs-valuta-asing.htm?kurs=JPY')"
   ]
  },
  {
   "cell_type": "code",
   "execution_count": 2,
   "metadata": {},
   "outputs": [
    {
     "data": {
      "text/plain": [
       "b'!DOCTYPE html PUBLIC \"-//W3C//DTD XHTML 1.0 Transitional//EN\" \"http://www.w3.org/TR/xhtml1/DTD/xhtml1-transitional.dtd\">\\n<html xmlns=\"http://www.w3.org/1999/xhtml\">\\n<head>\\n<meta http-equiv=\"Content-Language\" content=\"en,in\" />\\n<link rel=\"alternate\" href=\"https://monexnews.com/kurs-valuta-asing.php\" hreflang=\"en-ID\" />\\n<base href=\"https://monexnews.com/\" target=\"_self\" />\\n<title>Kurs Yen Jepang | JPY | Harga Nilai Tukar Yen Hari Ini | Monexnews</title>\\n<meta name=\"description\" content=\"Kurs yen jepang JPY, nilai tukar rupiah terhadap harga yen hari ini berdasar kurs tengah BI, Bank Indonesia. \" />\\n<meta name=\"keywords\" content=\"Kurs yen, jpy, nilai tukar yen, monexnews\" />\\n<meta property=\"og:image\" content=\"favicon.jpg\" />\\n<meta name=\"author\" content=\"Ultimaengine.co'"
      ]
     },
     "execution_count": 2,
     "metadata": {},
     "output_type": "execute_result"
    }
   ],
   "source": [
    "url_get.content[1:777]"
   ]
  },
  {
   "cell_type": "code",
   "execution_count": 3,
   "metadata": {},
   "outputs": [
    {
     "name": "stdout",
     "output_type": "stream",
     "text": [
      "<class 'bs4.BeautifulSoup'>\n"
     ]
    }
   ],
   "source": [
    "from bs4 import BeautifulSoup \n",
    "\n",
    "soup = BeautifulSoup(url_get.content,\"html.parser\")\n",
    "print(type(soup))"
   ]
  },
  {
   "cell_type": "code",
   "execution_count": 4,
   "metadata": {
    "scrolled": true
   },
   "outputs": [
    {
     "name": "stdout",
     "output_type": "stream",
     "text": [
      "<!DOCTYPE html PUBLIC \"-//W3C//DTD XHTML 1.0 Transitional//EN\" \"http://www.w3.org/TR/xhtml1/DTD/xhtml1-transitional.dtd\">\n",
      "<html xmlns=\"http://www.w3.org/1999/xhtml\">\n",
      " <head>\n",
      "  <meta content=\"en,in\" http-equiv=\"Content-Language\"/>\n",
      "  <link href=\"https://monexnews.com/kurs-valuta-asing.php\" hreflang=\"en-ID\" rel=\"alternate\"/>\n",
      "  <base href=\"https://monexnews.com/\" target=\"_self\"/>\n",
      "  <title>\n",
      "   Kurs Yen Jepang | JPY | Harga Nilai Tukar Yen Hari Ini | Monexnews\n",
      "  </title>\n",
      "  <meta content=\"Kurs yen jepang JPY, nilai tukar rupiah terhadap harga yen hari ini berdasar kurs tengah BI, Bank Indonesia. \" name=\"description\"/>\n",
      "  <meta content=\"Kurs yen, jpy, nilai tukar yen, monexnews\" name=\"keywords\"/>\n",
      "  <meta content=\"favicon.jpg\" property=\"og:image\"/>\n",
      "  <meta content=\"Ultimaengine.com\" name=\"author\"/>\n",
      "  <meta content=\"follow, index\" name=\"robots\"/>\n",
      "  <meta content=\"7 days\" name=\"revisit-after\"/>\n",
      "  <meta content=\"width=device-width, initial-scale=1.0\" name=\"viewport\"/>\n",
      "  <meta content=\"M7NOlgqcEadhlLSiEssmvNI08vl1BowAztIyERgEgMQ\" name=\"google-\n"
     ]
    }
   ],
   "source": [
    "print(soup.prettify()[:1045])"
   ]
  },
  {
   "cell_type": "code",
   "execution_count": 5,
   "metadata": {},
   "outputs": [
    {
     "name": "stdout",
     "output_type": "stream",
     "text": [
      "table class=\"table\">\n",
      " <tr>\n",
      "  <td>\n",
      "   TANGGAL\n",
      "  </td>\n",
      "  <td>\n",
      "   ASK\n",
      "  </td>\n",
      "  <td>\n",
      "   BID\n",
      "  </td>\n",
      " </tr>\n",
      " <tr class=\"verySoftGreyBg\">\n",
      "  <td>\n",
      "   14 Mei 2020\n",
      "  </td>\n",
      "  <td>\n",
      "   140,55\n",
      "  </td>\n",
      "  <td>\n",
      "   139,14\n",
      "  </td>\n",
      " </tr>\n",
      " <tr>\n",
      "  <td>\n",
      "   13 Mei 2020\n",
      "  </td>\n",
      "  <td>\n",
      "   139,53\n",
      "  </td>\n",
      "  <td>\n",
      "   138,10\n",
      "  </td>\n",
      " </tr>\n",
      " <tr class=\"verySoftGreyBg\">\n",
      "  <td>\n",
      "   12 Mei 2020\n",
      "  </td>\n",
      "  <td>\n",
      "   140,08\n",
      "  </td>\n",
      "  <td>\n",
      "   138,65\n",
      "  </td>\n",
      " </tr>\n",
      " <tr>\n",
      "  <td>\n",
      "   11 Mei 2020\n",
      "  </td>\n",
      "  <td>\n",
      "   140,51\n",
      "  </td>\n",
      "  <td>\n",
      "  \n"
     ]
    }
   ],
   "source": [
    "table = soup.find('table', attrs={'class':'table'})\n",
    "print(table.prettify()[1:500])"
   ]
  },
  {
   "cell_type": "code",
   "execution_count": 6,
   "metadata": {
    "scrolled": true
   },
   "outputs": [
    {
     "data": {
      "text/plain": [
       "[<tr>\n",
       " <td>TANGGAL</td>\n",
       " <td>ASK</td>\n",
       " <td>BID</td>\n",
       " </tr>, <tr class=\"verySoftGreyBg\">\n",
       " <td>14 Mei 2020</td>\n",
       " <td>140,55</td>\n",
       " <td>139,14</td>\n",
       " </tr>]"
      ]
     },
     "execution_count": 6,
     "metadata": {},
     "output_type": "execute_result"
    }
   ],
   "source": [
    "tr = table.find_all('tr')\n",
    "tr[:2] # just call 2 founded tr"
   ]
  },
  {
   "cell_type": "code",
   "execution_count": 7,
   "metadata": {
    "scrolled": true
   },
   "outputs": [
    {
     "data": {
      "text/plain": [
       "[('14\\xa0Mei\\xa02020', '139,14', '140,55'),\n",
       " ('13\\xa0Mei\\xa02020', '138,10', '139,53'),\n",
       " ('12\\xa0Mei\\xa02020', '138,65', '140,08'),\n",
       " ('11\\xa0Mei\\xa02020', '139,10', '140,51'),\n",
       " ('08\\xa0Mei\\xa02020', '140,44', '141,86')]"
      ]
     },
     "execution_count": 7,
     "metadata": {},
     "output_type": "execute_result"
    }
   ],
   "source": [
    "temp = [] #initiating a tuple\n",
    "\n",
    "for i in range(1, len(tr)):\n",
    "    row = table.find_all('tr')[i]\n",
    "    \n",
    "    #get tanggal\n",
    "    tanggal = row.find_all('td')[0].text\n",
    "    tanggal = tanggal.strip() #for removing the excess whitespace\n",
    "    \n",
    "    #get ask\n",
    "    ask = row.find_all('td')[2].text\n",
    "    ask = ask.strip() #for removing the excess whitespace\n",
    "    \n",
    "    #get bid\n",
    "    bid = row.find_all('td')[1].text\n",
    "    bid = bid.strip() #for removing the excess whitespace\n",
    "    \n",
    "    temp.append((tanggal, ask, bid)) \n",
    "    \n",
    "temp "
   ]
  },
  {
   "cell_type": "code",
   "execution_count": 8,
   "metadata": {},
   "outputs": [
    {
     "data": {
      "text/plain": [
       "[('08\\xa0Mei\\xa02020', '140,44', '141,86'),\n",
       " ('11\\xa0Mei\\xa02020', '139,10', '140,51'),\n",
       " ('12\\xa0Mei\\xa02020', '138,65', '140,08'),\n",
       " ('13\\xa0Mei\\xa02020', '138,10', '139,53'),\n",
       " ('14\\xa0Mei\\xa02020', '139,14', '140,55')]"
      ]
     },
     "execution_count": 8,
     "metadata": {},
     "output_type": "execute_result"
    }
   ],
   "source": [
    "temp = temp[::-1]\n",
    "temp"
   ]
  },
  {
   "cell_type": "code",
   "execution_count": 9,
   "metadata": {},
   "outputs": [
    {
     "data": {
      "text/html": [
       "<div>\n",
       "<style scoped>\n",
       "    .dataframe tbody tr th:only-of-type {\n",
       "        vertical-align: middle;\n",
       "    }\n",
       "\n",
       "    .dataframe tbody tr th {\n",
       "        vertical-align: top;\n",
       "    }\n",
       "\n",
       "    .dataframe thead th {\n",
       "        text-align: right;\n",
       "    }\n",
       "</style>\n",
       "<table border=\"1\" class=\"dataframe\">\n",
       "  <thead>\n",
       "    <tr style=\"text-align: right;\">\n",
       "      <th></th>\n",
       "      <th>tanggal</th>\n",
       "      <th>ask</th>\n",
       "      <th>bid</th>\n",
       "    </tr>\n",
       "  </thead>\n",
       "  <tbody>\n",
       "    <tr>\n",
       "      <th>0</th>\n",
       "      <td>08 Mei 2020</td>\n",
       "      <td>140,44</td>\n",
       "      <td>141,86</td>\n",
       "    </tr>\n",
       "    <tr>\n",
       "      <th>1</th>\n",
       "      <td>11 Mei 2020</td>\n",
       "      <td>139,10</td>\n",
       "      <td>140,51</td>\n",
       "    </tr>\n",
       "    <tr>\n",
       "      <th>2</th>\n",
       "      <td>12 Mei 2020</td>\n",
       "      <td>138,65</td>\n",
       "      <td>140,08</td>\n",
       "    </tr>\n",
       "    <tr>\n",
       "      <th>3</th>\n",
       "      <td>13 Mei 2020</td>\n",
       "      <td>138,10</td>\n",
       "      <td>139,53</td>\n",
       "    </tr>\n",
       "    <tr>\n",
       "      <th>4</th>\n",
       "      <td>14 Mei 2020</td>\n",
       "      <td>139,14</td>\n",
       "      <td>140,55</td>\n",
       "    </tr>\n",
       "  </tbody>\n",
       "</table>\n",
       "</div>"
      ],
      "text/plain": [
       "       tanggal     ask     bid\n",
       "0  08 Mei 2020  140,44  141,86\n",
       "1  11 Mei 2020  139,10  140,51\n",
       "2  12 Mei 2020  138,65  140,08\n",
       "3  13 Mei 2020  138,10  139,53\n",
       "4  14 Mei 2020  139,14  140,55"
      ]
     },
     "execution_count": 9,
     "metadata": {},
     "output_type": "execute_result"
    }
   ],
   "source": [
    "import pandas as pd\n",
    "\n",
    "df = pd.DataFrame(temp, columns = ('tanggal', 'ask', 'bid'))\n",
    "df.head()"
   ]
  },
  {
   "cell_type": "code",
   "execution_count": 10,
   "metadata": {},
   "outputs": [],
   "source": [
    "df['ask'] = df['ask'].str.replace(\" ,\",\"\")"
   ]
  },
  {
   "cell_type": "code",
   "execution_count": 11,
   "metadata": {},
   "outputs": [
    {
     "data": {
      "text/html": [
       "<div>\n",
       "<style scoped>\n",
       "    .dataframe tbody tr th:only-of-type {\n",
       "        vertical-align: middle;\n",
       "    }\n",
       "\n",
       "    .dataframe tbody tr th {\n",
       "        vertical-align: top;\n",
       "    }\n",
       "\n",
       "    .dataframe thead th {\n",
       "        text-align: right;\n",
       "    }\n",
       "</style>\n",
       "<table border=\"1\" class=\"dataframe\">\n",
       "  <thead>\n",
       "    <tr style=\"text-align: right;\">\n",
       "      <th></th>\n",
       "      <th>tanggal</th>\n",
       "      <th>ask</th>\n",
       "      <th>bid</th>\n",
       "    </tr>\n",
       "  </thead>\n",
       "  <tbody>\n",
       "    <tr>\n",
       "      <th>0</th>\n",
       "      <td>08 Mei 2020</td>\n",
       "      <td>140,44</td>\n",
       "      <td>141,86</td>\n",
       "    </tr>\n",
       "    <tr>\n",
       "      <th>1</th>\n",
       "      <td>11 Mei 2020</td>\n",
       "      <td>139,10</td>\n",
       "      <td>140,51</td>\n",
       "    </tr>\n",
       "    <tr>\n",
       "      <th>2</th>\n",
       "      <td>12 Mei 2020</td>\n",
       "      <td>138,65</td>\n",
       "      <td>140,08</td>\n",
       "    </tr>\n",
       "    <tr>\n",
       "      <th>3</th>\n",
       "      <td>13 Mei 2020</td>\n",
       "      <td>138,10</td>\n",
       "      <td>139,53</td>\n",
       "    </tr>\n",
       "    <tr>\n",
       "      <th>4</th>\n",
       "      <td>14 Mei 2020</td>\n",
       "      <td>139,14</td>\n",
       "      <td>140,55</td>\n",
       "    </tr>\n",
       "  </tbody>\n",
       "</table>\n",
       "</div>"
      ],
      "text/plain": [
       "       tanggal     ask     bid\n",
       "0  08 Mei 2020  140,44  141,86\n",
       "1  11 Mei 2020  139,10  140,51\n",
       "2  12 Mei 2020  138,65  140,08\n",
       "3  13 Mei 2020  138,10  139,53\n",
       "4  14 Mei 2020  139,14  140,55"
      ]
     },
     "execution_count": 11,
     "metadata": {},
     "output_type": "execute_result"
    }
   ],
   "source": [
    "df"
   ]
  },
  {
   "cell_type": "code",
   "execution_count": 14,
   "metadata": {},
   "outputs": [
    {
     "data": {
      "text/plain": [
       "<matplotlib.axes._subplots.AxesSubplot at 0x1d8e0c154c0>"
      ]
     },
     "execution_count": 14,
     "metadata": {},
     "output_type": "execute_result"
    }
   ],
   "source": [
    "df['ask'] = df['ask'].str.replace(\",\",\".\")\n",
    "df['ask'] = df['ask'].astype('float64')\n",
    "df['bid'] = df['bid'].str.replace(\",\",\".\")\n",
    "df['bid'] = df['bid'].astype('float64')\n",
    "\n",
    "df.plot()"
   ]
  },
  {
   "cell_type": "code",
   "execution_count": 16,
   "metadata": {},
   "outputs": [
    {
     "data": {
      "text/html": [
       "<div>\n",
       "<style scoped>\n",
       "    .dataframe tbody tr th:only-of-type {\n",
       "        vertical-align: middle;\n",
       "    }\n",
       "\n",
       "    .dataframe tbody tr th {\n",
       "        vertical-align: top;\n",
       "    }\n",
       "\n",
       "    .dataframe thead th {\n",
       "        text-align: right;\n",
       "    }\n",
       "</style>\n",
       "<table border=\"1\" class=\"dataframe\">\n",
       "  <thead>\n",
       "    <tr style=\"text-align: right;\">\n",
       "      <th></th>\n",
       "      <th>tanggal</th>\n",
       "      <th>ask</th>\n",
       "      <th>bid</th>\n",
       "    </tr>\n",
       "  </thead>\n",
       "  <tbody>\n",
       "    <tr>\n",
       "      <th>0</th>\n",
       "      <td>08 Mei 2020</td>\n",
       "      <td>140.44</td>\n",
       "      <td>141.86</td>\n",
       "    </tr>\n",
       "    <tr>\n",
       "      <th>1</th>\n",
       "      <td>11 Mei 2020</td>\n",
       "      <td>139.10</td>\n",
       "      <td>140.51</td>\n",
       "    </tr>\n",
       "    <tr>\n",
       "      <th>2</th>\n",
       "      <td>12 Mei 2020</td>\n",
       "      <td>138.65</td>\n",
       "      <td>140.08</td>\n",
       "    </tr>\n",
       "    <tr>\n",
       "      <th>3</th>\n",
       "      <td>13 Mei 2020</td>\n",
       "      <td>138.10</td>\n",
       "      <td>139.53</td>\n",
       "    </tr>\n",
       "    <tr>\n",
       "      <th>4</th>\n",
       "      <td>14 Mei 2020</td>\n",
       "      <td>139.14</td>\n",
       "      <td>140.55</td>\n",
       "    </tr>\n",
       "  </tbody>\n",
       "</table>\n",
       "</div>"
      ],
      "text/plain": [
       "       tanggal     ask     bid\n",
       "0  08 Mei 2020  140.44  141.86\n",
       "1  11 Mei 2020  139.10  140.51\n",
       "2  12 Mei 2020  138.65  140.08\n",
       "3  13 Mei 2020  138.10  139.53\n",
       "4  14 Mei 2020  139.14  140.55"
      ]
     },
     "execution_count": 16,
     "metadata": {},
     "output_type": "execute_result"
    }
   ],
   "source": [
    "df"
   ]
  },
  {
   "cell_type": "code",
   "execution_count": 15,
   "metadata": {},
   "outputs": [
    {
     "data": {
      "text/plain": [
       "<matplotlib.axes._subplots.AxesSubplot at 0x1d8e2e3ef70>"
      ]
     },
     "execution_count": 15,
     "metadata": {},
     "output_type": "execute_result"
    },
    {
     "data": {
      "image/png": "[encoded data removed]",
      "text/plain": [
       "<Figure size 432x288 with 1 Axes>"
      ]
     },
     "metadata": {
      "needs_background": "light"
     },
     "output_type": "display_data"
    }
   ],
   "source": [
    "df.plot()"
   ]
  }
 ],
 "metadata": {
  "kernelspec": {
   "display_name": "Python [conda env:bebas]",
   "language": "python",
   "name": "conda-env-bebas-py"
  },
  "language_info": {
   "codemirror_mode": {
    "name": "ipython",
    "version": 3
   },
   "file_extension": ".py",
   "mimetype": "text/x-python",
   "name": "python",
   "nbconvert_exporter": "python",
   "pygments_lexer": "ipython3",
   "version": "3.8.0"
  },
  "toc": {
   "base_numbering": 1,
   "nav_menu": {},
   "number_sections": true,
   "sideBar": true,
   "skip_h1_title": false,
   "title_cell": "Table of Contents",
   "title_sidebar": "Contents",
   "toc_cell": false,
   "toc_position": {},
   "toc_section_display": true,
   "toc_window_display": false
  }
 },
 "nbformat": 4,
 "nbformat_minor": 2
}
